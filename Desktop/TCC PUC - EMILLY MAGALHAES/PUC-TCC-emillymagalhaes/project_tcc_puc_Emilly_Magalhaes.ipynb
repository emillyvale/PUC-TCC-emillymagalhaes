{
  "nbformat": 4,
  "nbformat_minor": 0,
  "metadata": {
    "colab": {
      "provenance": []
    },
    "kernelspec": {
      "name": "python3",
      "display_name": "Python 3"
    },
    "language_info": {
      "name": "python"
    }
  },
  "cells": [
    {
      "cell_type": "code",
      "execution_count": 1,
      "metadata": {
        "id": "aEgLD8rUg6kD"
      },
      "outputs": [],
      "source": [
        "import pandas as pd\n",
        "import numpy as np\n",
        "import folium\n",
        "from folium import plugins"
      ]
    },
    {
      "cell_type": "code",
      "source": [
        "df = pd.read_csv(\"caso.csv\")\n",
        "df"
      ],
      "metadata": {
        "id": "BRMDSfl3hI-W"
      },
      "execution_count": null,
      "outputs": []
    },
    {
      "cell_type": "code",
      "source": [
        "estados = df.loc[df.place_type=='state',:]\n",
        "estados.state.unique()"
      ],
      "metadata": {
        "colab": {
          "base_uri": "https://localhost:8080/"
        },
        "id": "niypj8y4hVqK",
        "outputId": "e240ee96-a29c-4842-b07d-6477a5a451d3"
      },
      "execution_count": 3,
      "outputs": [
        {
          "output_type": "execute_result",
          "data": {
            "text/plain": [
              "array(['AP', 'AC', 'AM', 'AL', 'DF', 'ES', 'CE', 'BA', 'MS', 'MA', 'GO',\n",
              "       'MT', 'PA', 'PE', 'PB', 'PI', 'RJ', 'MG', 'RN', 'RR', 'RO', 'PR',\n",
              "       'SE', 'SC', 'TO', 'RS', 'SP'], dtype=object)"
            ]
          },
          "metadata": {},
          "execution_count": 3
        }
      ]
    },
    {
      "cell_type": "code",
      "source": [
        "data = estados[['date','state','confirmed','deaths','is_last']]\n",
        "data"
      ],
      "metadata": {
        "colab": {
          "base_uri": "https://localhost:8080/",
          "height": 423
        },
        "id": "o6vNTpIAhe3V",
        "outputId": "1cc3f43b-2459-407b-e701-ee0b464b51a8"
      },
      "execution_count": 4,
      "outputs": [
        {
          "output_type": "execute_result",
          "data": {
            "text/plain": [
              "               date state  confirmed  deaths  is_last\n",
              "0        2022-03-27    AP     160328    2122     True\n",
              "1        2022-03-26    AP     160321    2122    False\n",
              "2        2022-03-25    AP     160314    2122    False\n",
              "3        2022-03-24    AP     160301    2122    False\n",
              "4        2022-03-23    AP     160288    2122    False\n",
              "...             ...   ...        ...     ...      ...\n",
              "2515988  2020-02-29    SP          2       0    False\n",
              "2515989  2020-02-28    SP          2       0    False\n",
              "2515990  2020-02-27    SP          1       0    False\n",
              "2515991  2020-02-26    SP          1       0    False\n",
              "2515992  2020-02-25    SP          1       0    False\n",
              "\n",
              "[19762 rows x 5 columns]"
            ],
            "text/html": [
              "\n",
              "  <div id=\"df-06666b30-828a-4b27-bf1a-7a8767e4c6aa\">\n",
              "    <div class=\"colab-df-container\">\n",
              "      <div>\n",
              "<style scoped>\n",
              "    .dataframe tbody tr th:only-of-type {\n",
              "        vertical-align: middle;\n",
              "    }\n",
              "\n",
              "    .dataframe tbody tr th {\n",
              "        vertical-align: top;\n",
              "    }\n",
              "\n",
              "    .dataframe thead th {\n",
              "        text-align: right;\n",
              "    }\n",
              "</style>\n",
              "<table border=\"1\" class=\"dataframe\">\n",
              "  <thead>\n",
              "    <tr style=\"text-align: right;\">\n",
              "      <th></th>\n",
              "      <th>date</th>\n",
              "      <th>state</th>\n",
              "      <th>confirmed</th>\n",
              "      <th>deaths</th>\n",
              "      <th>is_last</th>\n",
              "    </tr>\n",
              "  </thead>\n",
              "  <tbody>\n",
              "    <tr>\n",
              "      <th>0</th>\n",
              "      <td>2022-03-27</td>\n",
              "      <td>AP</td>\n",
              "      <td>160328</td>\n",
              "      <td>2122</td>\n",
              "      <td>True</td>\n",
              "    </tr>\n",
              "    <tr>\n",
              "      <th>1</th>\n",
              "      <td>2022-03-26</td>\n",
              "      <td>AP</td>\n",
              "      <td>160321</td>\n",
              "      <td>2122</td>\n",
              "      <td>False</td>\n",
              "    </tr>\n",
              "    <tr>\n",
              "      <th>2</th>\n",
              "      <td>2022-03-25</td>\n",
              "      <td>AP</td>\n",
              "      <td>160314</td>\n",
              "      <td>2122</td>\n",
              "      <td>False</td>\n",
              "    </tr>\n",
              "    <tr>\n",
              "      <th>3</th>\n",
              "      <td>2022-03-24</td>\n",
              "      <td>AP</td>\n",
              "      <td>160301</td>\n",
              "      <td>2122</td>\n",
              "      <td>False</td>\n",
              "    </tr>\n",
              "    <tr>\n",
              "      <th>4</th>\n",
              "      <td>2022-03-23</td>\n",
              "      <td>AP</td>\n",
              "      <td>160288</td>\n",
              "      <td>2122</td>\n",
              "      <td>False</td>\n",
              "    </tr>\n",
              "    <tr>\n",
              "      <th>...</th>\n",
              "      <td>...</td>\n",
              "      <td>...</td>\n",
              "      <td>...</td>\n",
              "      <td>...</td>\n",
              "      <td>...</td>\n",
              "    </tr>\n",
              "    <tr>\n",
              "      <th>2515988</th>\n",
              "      <td>2020-02-29</td>\n",
              "      <td>SP</td>\n",
              "      <td>2</td>\n",
              "      <td>0</td>\n",
              "      <td>False</td>\n",
              "    </tr>\n",
              "    <tr>\n",
              "      <th>2515989</th>\n",
              "      <td>2020-02-28</td>\n",
              "      <td>SP</td>\n",
              "      <td>2</td>\n",
              "      <td>0</td>\n",
              "      <td>False</td>\n",
              "    </tr>\n",
              "    <tr>\n",
              "      <th>2515990</th>\n",
              "      <td>2020-02-27</td>\n",
              "      <td>SP</td>\n",
              "      <td>1</td>\n",
              "      <td>0</td>\n",
              "      <td>False</td>\n",
              "    </tr>\n",
              "    <tr>\n",
              "      <th>2515991</th>\n",
              "      <td>2020-02-26</td>\n",
              "      <td>SP</td>\n",
              "      <td>1</td>\n",
              "      <td>0</td>\n",
              "      <td>False</td>\n",
              "    </tr>\n",
              "    <tr>\n",
              "      <th>2515992</th>\n",
              "      <td>2020-02-25</td>\n",
              "      <td>SP</td>\n",
              "      <td>1</td>\n",
              "      <td>0</td>\n",
              "      <td>False</td>\n",
              "    </tr>\n",
              "  </tbody>\n",
              "</table>\n",
              "<p>19762 rows × 5 columns</p>\n",
              "</div>\n",
              "      <button class=\"colab-df-convert\" onclick=\"convertToInteractive('df-06666b30-828a-4b27-bf1a-7a8767e4c6aa')\"\n",
              "              title=\"Convert this dataframe to an interactive table.\"\n",
              "              style=\"display:none;\">\n",
              "        \n",
              "  <svg xmlns=\"http://www.w3.org/2000/svg\" height=\"24px\"viewBox=\"0 0 24 24\"\n",
              "       width=\"24px\">\n",
              "    <path d=\"M0 0h24v24H0V0z\" fill=\"none\"/>\n",
              "    <path d=\"M18.56 5.44l.94 2.06.94-2.06 2.06-.94-2.06-.94-.94-2.06-.94 2.06-2.06.94zm-11 1L8.5 8.5l.94-2.06 2.06-.94-2.06-.94L8.5 2.5l-.94 2.06-2.06.94zm10 10l.94 2.06.94-2.06 2.06-.94-2.06-.94-.94-2.06-.94 2.06-2.06.94z\"/><path d=\"M17.41 7.96l-1.37-1.37c-.4-.4-.92-.59-1.43-.59-.52 0-1.04.2-1.43.59L10.3 9.45l-7.72 7.72c-.78.78-.78 2.05 0 2.83L4 21.41c.39.39.9.59 1.41.59.51 0 1.02-.2 1.41-.59l7.78-7.78 2.81-2.81c.8-.78.8-2.07 0-2.86zM5.41 20L4 18.59l7.72-7.72 1.47 1.35L5.41 20z\"/>\n",
              "  </svg>\n",
              "      </button>\n",
              "      \n",
              "  <style>\n",
              "    .colab-df-container {\n",
              "      display:flex;\n",
              "      flex-wrap:wrap;\n",
              "      gap: 12px;\n",
              "    }\n",
              "\n",
              "    .colab-df-convert {\n",
              "      background-color: #E8F0FE;\n",
              "      border: none;\n",
              "      border-radius: 50%;\n",
              "      cursor: pointer;\n",
              "      display: none;\n",
              "      fill: #1967D2;\n",
              "      height: 32px;\n",
              "      padding: 0 0 0 0;\n",
              "      width: 32px;\n",
              "    }\n",
              "\n",
              "    .colab-df-convert:hover {\n",
              "      background-color: #E2EBFA;\n",
              "      box-shadow: 0px 1px 2px rgba(60, 64, 67, 0.3), 0px 1px 3px 1px rgba(60, 64, 67, 0.15);\n",
              "      fill: #174EA6;\n",
              "    }\n",
              "\n",
              "    [theme=dark] .colab-df-convert {\n",
              "      background-color: #3B4455;\n",
              "      fill: #D2E3FC;\n",
              "    }\n",
              "\n",
              "    [theme=dark] .colab-df-convert:hover {\n",
              "      background-color: #434B5C;\n",
              "      box-shadow: 0px 1px 3px 1px rgba(0, 0, 0, 0.15);\n",
              "      filter: drop-shadow(0px 1px 2px rgba(0, 0, 0, 0.3));\n",
              "      fill: #FFFFFF;\n",
              "    }\n",
              "  </style>\n",
              "\n",
              "      <script>\n",
              "        const buttonEl =\n",
              "          document.querySelector('#df-06666b30-828a-4b27-bf1a-7a8767e4c6aa button.colab-df-convert');\n",
              "        buttonEl.style.display =\n",
              "          google.colab.kernel.accessAllowed ? 'block' : 'none';\n",
              "\n",
              "        async function convertToInteractive(key) {\n",
              "          const element = document.querySelector('#df-06666b30-828a-4b27-bf1a-7a8767e4c6aa');\n",
              "          const dataTable =\n",
              "            await google.colab.kernel.invokeFunction('convertToInteractive',\n",
              "                                                     [key], {});\n",
              "          if (!dataTable) return;\n",
              "\n",
              "          const docLinkHtml = 'Like what you see? Visit the ' +\n",
              "            '<a target=\"_blank\" href=https://colab.research.google.com/notebooks/data_table.ipynb>data table notebook</a>'\n",
              "            + ' to learn more about interactive tables.';\n",
              "          element.innerHTML = '';\n",
              "          dataTable['output_type'] = 'display_data';\n",
              "          await google.colab.output.renderOutput(dataTable, element);\n",
              "          const docLink = document.createElement('div');\n",
              "          docLink.innerHTML = docLinkHtml;\n",
              "          element.appendChild(docLink);\n",
              "        }\n",
              "      </script>\n",
              "    </div>\n",
              "  </div>\n",
              "  "
            ]
          },
          "metadata": {},
          "execution_count": 4
        }
      ]
    },
    {
      "cell_type": "code",
      "source": [
        "data.loc[data.is_last==True , ['confirmed','deaths'] ].sum()"
      ],
      "metadata": {
        "colab": {
          "base_uri": "https://localhost:8080/"
        },
        "id": "qsfq0N2VhkXt",
        "outputId": "95ed38d3-03ee-480f-bf69-6a88cf9f5414"
      },
      "execution_count": 5,
      "outputs": [
        {
          "output_type": "execute_result",
          "data": {
            "text/plain": [
              "confirmed    29849740\n",
              "deaths         659159\n",
              "dtype: int64"
            ]
          },
          "metadata": {},
          "execution_count": 5
        }
      ]
    },
    {
      "cell_type": "code",
      "source": [
        "covid = pd.DataFrame()"
      ],
      "metadata": {
        "id": "rexvZdJShuFa"
      },
      "execution_count": 6,
      "outputs": []
    },
    {
      "cell_type": "code",
      "source": [
        "estado = 'AM'\n",
        "situacao = 'confirmed'\n",
        "df_estado = data.loc[data.state==estado, :]\n",
        "df_estado = df_estado.groupby('date').sum()[situacao].reset_index()\n",
        "df_estado = df_estado.drop(\"date\", axis=1)\n",
        "df_estado.columns = [estado]\n",
        "covid = pd.concat([covid, df_estado], ignore_index=True, axis=1)"
      ],
      "metadata": {
        "colab": {
          "base_uri": "https://localhost:8080/"
        },
        "id": "jJVgv4gOhu0B",
        "outputId": "19d69764-532a-4e08-bb19-1c859e3647a7"
      },
      "execution_count": 7,
      "outputs": [
        {
          "output_type": "stream",
          "name": "stderr",
          "text": [
            "<ipython-input-7-9012f49b5d0d>:4: FutureWarning: The default value of numeric_only in DataFrameGroupBy.sum is deprecated. In a future version, numeric_only will default to False. Either specify numeric_only or select only columns which should be valid for the function.\n",
            "  df_estado = df_estado.groupby('date').sum()[situacao].reset_index()\n"
          ]
        }
      ]
    },
    {
      "cell_type": "code",
      "source": [
        "def desde1caso(data, estados, dias, situacao):\n",
        "\n",
        "  covid = pd.DataFrame()\n",
        "\n",
        "  for estado in estados:\n",
        "    try:\n",
        "      df_estado = data.loc[data.state==estado, :]\n",
        "      df_estado = df_estado.groupby('date').sum()[situacao].reset_index()\n",
        "      df_estado = df_estado.drop(\"date\", axis=1)\n",
        "      covid = pd.concat([covid, df_estado], ignore_index=True, axis=1)\n",
        "    except:\n",
        "      print(\"Is not \" + situacao + \" in \" + estado )\n",
        "\n",
        "  covid.columns = estados\n",
        "\n",
        "  return covid.head(dias)"
      ],
      "metadata": {
        "id": "No6SycNdhyTh"
      },
      "execution_count": 45,
      "outputs": []
    },
    {
      "cell_type": "code",
      "source": [
        "casos_covid_estados = desde1caso(data,['AM','MT','RN','PR','ES'], 30,'deaths')"
      ],
      "metadata": {
        "id": "UHFFEqSGh5KF"
      },
      "execution_count": null,
      "outputs": []
    },
    {
      "cell_type": "code",
      "source": [
        "casos_covid_estados.plot()"
      ],
      "metadata": {
        "colab": {
          "base_uri": "https://localhost:8080/",
          "height": 447
        },
        "id": "UmKMvJAkh8y3",
        "outputId": "38c1d30a-ab44-43e3-aa87-4451f37bedea"
      },
      "execution_count": 10,
      "outputs": [
        {
          "output_type": "execute_result",
          "data": {
            "text/plain": [
              "<Axes: >"
            ]
          },
          "metadata": {},
          "execution_count": 10
        },
        {
          "output_type": "display_data",
          "data": {
            "text/plain": [
              "<Figure size 640x480 with 1 Axes>"
            ],
            "image/png": "[encoded data removed]"
          },
          "metadata": {}
        }
      ]
    },
    {
      "cell_type": "code",
      "source": [
        "mortes_covid_norte = desde1caso(data,['AC','AM','AP','PA','RR','RO','TO'], 30,'deaths')"
      ],
      "metadata": {
        "id": "FOOlRb-BiA3U"
      },
      "execution_count": null,
      "outputs": []
    },
    {
      "cell_type": "code",
      "source": [
        "mortes_covid_norte.plot()"
      ],
      "metadata": {
        "colab": {
          "base_uri": "https://localhost:8080/",
          "height": 447
        },
        "id": "PlvmQRnRm9qs",
        "outputId": "68cc46dc-ed04-4363-a9fc-65e531e4f50f"
      },
      "execution_count": 12,
      "outputs": [
        {
          "output_type": "execute_result",
          "data": {
            "text/plain": [
              "<Axes: >"
            ]
          },
          "metadata": {},
          "execution_count": 12
        },
        {
          "output_type": "display_data",
          "data": {
            "text/plain": [
              "<Figure size 640x480 with 1 Axes>"
            ],
            "image/png": "[encoded data removed]"
          },
          "metadata": {}
        }
      ]
    },
    {
      "cell_type": "code",
      "source": [
        "df_corr = pd.DataFrame()"
      ],
      "metadata": {
        "id": "nPQPiQfBnCP_"
      },
      "execution_count": 48,
      "outputs": []
    },
    {
      "cell_type": "code",
      "source": [
        "am_confirmed = desde1caso(data,['AM'], 100,'confirmed')\n",
        "am_death     = desde1caso(data,['AM'], 100,'deaths')"
      ],
      "metadata": {
        "colab": {
          "base_uri": "https://localhost:8080/"
        },
        "id": "P_PopUXGnHxv",
        "outputId": "ec10e94c-37c4-4f7a-8f29-084b06a82ca0"
      },
      "execution_count": 49,
      "outputs": [
        {
          "output_type": "stream",
          "name": "stderr",
          "text": [
            "<ipython-input-45-fa37b576b12f>:8: FutureWarning: The default value of numeric_only in DataFrameGroupBy.sum is deprecated. In a future version, numeric_only will default to False. Either specify numeric_only or select only columns which should be valid for the function.\n",
            "  df_estado = df_estado.groupby('date').sum()[situacao].reset_index()\n",
            "<ipython-input-45-fa37b576b12f>:8: FutureWarning: The default value of numeric_only in DataFrameGroupBy.sum is deprecated. In a future version, numeric_only will default to False. Either specify numeric_only or select only columns which should be valid for the function.\n",
            "  df_estado = df_estado.groupby('date').sum()[situacao].reset_index()\n"
          ]
        }
      ]
    },
    {
      "cell_type": "code",
      "source": [
        "df_corr = covid = pd.concat([df_corr, am_confirmed, am_death], ignore_index=True, axis=1)\n",
        "df_corr.columns = ['confirmed', 'deaths']"
      ],
      "metadata": {
        "id": "C3irjSD7nMoF"
      },
      "execution_count": 50,
      "outputs": []
    },
    {
      "cell_type": "code",
      "source": [
        "def correlacao_casos_mortes(data, estado, dias):\n",
        "    df_corr         = pd.DataFrame()\n",
        "    am_confirmed    = desde1caso(data, estado, dias,'confirmed')\n",
        "    am_death        = desde1caso(data, estado, dias,'deaths')\n",
        "    df_corr         = pd.concat([df_corr, am_confirmed, am_death], ignore_index=True, axis=1)\n",
        "    df_corr.columns = ['confirmed', 'deaths']\n",
        "\n",
        "    return df_corr"
      ],
      "metadata": {
        "id": "lM5YT-HnnQTE"
      },
      "execution_count": 51,
      "outputs": []
    },
    {
      "cell_type": "code",
      "source": [
        "df_corr = correlacao_casos_mortes(data, ['AM'], 100)"
      ],
      "metadata": {
        "colab": {
          "base_uri": "https://localhost:8080/"
        },
        "id": "zfOuxv4znYaP",
        "outputId": "4d76e71f-d77a-4160-d0fc-ce42a9abbcdd"
      },
      "execution_count": 52,
      "outputs": [
        {
          "output_type": "stream",
          "name": "stderr",
          "text": [
            "<ipython-input-45-fa37b576b12f>:8: FutureWarning: The default value of numeric_only in DataFrameGroupBy.sum is deprecated. In a future version, numeric_only will default to False. Either specify numeric_only or select only columns which should be valid for the function.\n",
            "  df_estado = df_estado.groupby('date').sum()[situacao].reset_index()\n",
            "<ipython-input-45-fa37b576b12f>:8: FutureWarning: The default value of numeric_only in DataFrameGroupBy.sum is deprecated. In a future version, numeric_only will default to False. Either specify numeric_only or select only columns which should be valid for the function.\n",
            "  df_estado = df_estado.groupby('date').sum()[situacao].reset_index()\n"
          ]
        }
      ]
    },
    {
      "cell_type": "code",
      "source": [
        "df_corr.plot()"
      ],
      "metadata": {
        "colab": {
          "base_uri": "https://localhost:8080/",
          "height": 447
        },
        "id": "7BfJ4BkmnbpT",
        "outputId": "dc85a653-ad3b-4692-827d-3193c7b980c9"
      },
      "execution_count": 19,
      "outputs": [
        {
          "output_type": "execute_result",
          "data": {
            "text/plain": [
              "<Axes: >"
            ]
          },
          "metadata": {},
          "execution_count": 19
        },
        {
          "output_type": "display_data",
          "data": {
            "text/plain": [
              "<Figure size 640x480 with 1 Axes>"
            ],
            "image/png": "[encoded data removed]"
          },
          "metadata": {}
        }
      ]
    },
    {
      "cell_type": "code",
      "source": [
        "df_corr.corr(method='pearson')"
      ],
      "metadata": {
        "colab": {
          "base_uri": "https://localhost:8080/",
          "height": 112
        },
        "id": "UDmLuzXunhBA",
        "outputId": "2b97f4a2-f977-4627-e5db-1286124ebc42"
      },
      "execution_count": 53,
      "outputs": [
        {
          "output_type": "execute_result",
          "data": {
            "text/plain": [
              "           confirmed    deaths\n",
              "confirmed   1.000000  0.980338\n",
              "deaths      0.980338  1.000000"
            ],
            "text/html": [
              "\n",
              "  <div id=\"df-2328da84-9b63-4044-80c8-7f35aed05480\">\n",
              "    <div class=\"colab-df-container\">\n",
              "      <div>\n",
              "<style scoped>\n",
              "    .dataframe tbody tr th:only-of-type {\n",
              "        vertical-align: middle;\n",
              "    }\n",
              "\n",
              "    .dataframe tbody tr th {\n",
              "        vertical-align: top;\n",
              "    }\n",
              "\n",
              "    .dataframe thead th {\n",
              "        text-align: right;\n",
              "    }\n",
              "</style>\n",
              "<table border=\"1\" class=\"dataframe\">\n",
              "  <thead>\n",
              "    <tr style=\"text-align: right;\">\n",
              "      <th></th>\n",
              "      <th>confirmed</th>\n",
              "      <th>deaths</th>\n",
              "    </tr>\n",
              "  </thead>\n",
              "  <tbody>\n",
              "    <tr>\n",
              "      <th>confirmed</th>\n",
              "      <td>1.000000</td>\n",
              "      <td>0.980338</td>\n",
              "    </tr>\n",
              "    <tr>\n",
              "      <th>deaths</th>\n",
              "      <td>0.980338</td>\n",
              "      <td>1.000000</td>\n",
              "    </tr>\n",
              "  </tbody>\n",
              "</table>\n",
              "</div>\n",
              "      <button class=\"colab-df-convert\" onclick=\"convertToInteractive('df-2328da84-9b63-4044-80c8-7f35aed05480')\"\n",
              "              title=\"Convert this dataframe to an interactive table.\"\n",
              "              style=\"display:none;\">\n",
              "        \n",
              "  <svg xmlns=\"http://www.w3.org/2000/svg\" height=\"24px\"viewBox=\"0 0 24 24\"\n",
              "       width=\"24px\">\n",
              "    <path d=\"M0 0h24v24H0V0z\" fill=\"none\"/>\n",
              "    <path d=\"M18.56 5.44l.94 2.06.94-2.06 2.06-.94-2.06-.94-.94-2.06-.94 2.06-2.06.94zm-11 1L8.5 8.5l.94-2.06 2.06-.94-2.06-.94L8.5 2.5l-.94 2.06-2.06.94zm10 10l.94 2.06.94-2.06 2.06-.94-2.06-.94-.94-2.06-.94 2.06-2.06.94z\"/><path d=\"M17.41 7.96l-1.37-1.37c-.4-.4-.92-.59-1.43-.59-.52 0-1.04.2-1.43.59L10.3 9.45l-7.72 7.72c-.78.78-.78 2.05 0 2.83L4 21.41c.39.39.9.59 1.41.59.51 0 1.02-.2 1.41-.59l7.78-7.78 2.81-2.81c.8-.78.8-2.07 0-2.86zM5.41 20L4 18.59l7.72-7.72 1.47 1.35L5.41 20z\"/>\n",
              "  </svg>\n",
              "      </button>\n",
              "      \n",
              "  <style>\n",
              "    .colab-df-container {\n",
              "      display:flex;\n",
              "      flex-wrap:wrap;\n",
              "      gap: 12px;\n",
              "    }\n",
              "\n",
              "    .colab-df-convert {\n",
              "      background-color: #E8F0FE;\n",
              "      border: none;\n",
              "      border-radius: 50%;\n",
              "      cursor: pointer;\n",
              "      display: none;\n",
              "      fill: #1967D2;\n",
              "      height: 32px;\n",
              "      padding: 0 0 0 0;\n",
              "      width: 32px;\n",
              "    }\n",
              "\n",
              "    .colab-df-convert:hover {\n",
              "      background-color: #E2EBFA;\n",
              "      box-shadow: 0px 1px 2px rgba(60, 64, 67, 0.3), 0px 1px 3px 1px rgba(60, 64, 67, 0.15);\n",
              "      fill: #174EA6;\n",
              "    }\n",
              "\n",
              "    [theme=dark] .colab-df-convert {\n",
              "      background-color: #3B4455;\n",
              "      fill: #D2E3FC;\n",
              "    }\n",
              "\n",
              "    [theme=dark] .colab-df-convert:hover {\n",
              "      background-color: #434B5C;\n",
              "      box-shadow: 0px 1px 3px 1px rgba(0, 0, 0, 0.15);\n",
              "      filter: drop-shadow(0px 1px 2px rgba(0, 0, 0, 0.3));\n",
              "      fill: #FFFFFF;\n",
              "    }\n",
              "  </style>\n",
              "\n",
              "      <script>\n",
              "        const buttonEl =\n",
              "          document.querySelector('#df-2328da84-9b63-4044-80c8-7f35aed05480 button.colab-df-convert');\n",
              "        buttonEl.style.display =\n",
              "          google.colab.kernel.accessAllowed ? 'block' : 'none';\n",
              "\n",
              "        async function convertToInteractive(key) {\n",
              "          const element = document.querySelector('#df-2328da84-9b63-4044-80c8-7f35aed05480');\n",
              "          const dataTable =\n",
              "            await google.colab.kernel.invokeFunction('convertToInteractive',\n",
              "                                                     [key], {});\n",
              "          if (!dataTable) return;\n",
              "\n",
              "          const docLinkHtml = 'Like what you see? Visit the ' +\n",
              "            '<a target=\"_blank\" href=https://colab.research.google.com/notebooks/data_table.ipynb>data table notebook</a>'\n",
              "            + ' to learn more about interactive tables.';\n",
              "          element.innerHTML = '';\n",
              "          dataTable['output_type'] = 'display_data';\n",
              "          await google.colab.output.renderOutput(dataTable, element);\n",
              "          const docLink = document.createElement('div');\n",
              "          docLink.innerHTML = docLinkHtml;\n",
              "          element.appendChild(docLink);\n",
              "        }\n",
              "      </script>\n",
              "    </div>\n",
              "  </div>\n",
              "  "
            ]
          },
          "metadata": {},
          "execution_count": 53
        }
      ]
    },
    {
      "cell_type": "code",
      "source": [
        "ultimas = estados.loc[estados.is_last==True, ['state','confirmed']]"
      ],
      "metadata": {
        "id": "CCbfZkLxoZER"
      },
      "execution_count": 21,
      "outputs": []
    },
    {
      "cell_type": "code",
      "source": [
        "len(ultimas)"
      ],
      "metadata": {
        "colab": {
          "base_uri": "https://localhost:8080/"
        },
        "id": "a5uRQo6mogWY",
        "outputId": "a91341fe-3a92-43be-e4de-65d9ef25b08b"
      },
      "execution_count": 22,
      "outputs": [
        {
          "output_type": "execute_result",
          "data": {
            "text/plain": [
              "27"
            ]
          },
          "metadata": {},
          "execution_count": 22
        }
      ]
    },
    {
      "cell_type": "code",
      "source": [
        "import folium\n",
        "from folium import plugins\n",
        "\n",
        "import json\n",
        "\n",
        "br_estados = 'br_states.json'\n",
        "geo_json_data = json.load(open(br_estados))"
      ],
      "metadata": {
        "id": "OXIagJYGooxy"
      },
      "execution_count": 23,
      "outputs": []
    },
    {
      "cell_type": "code",
      "source": [
        "ultimas_map = ultimas.set_index('state')['confirmed']"
      ],
      "metadata": {
        "id": "r6sHUrgxowGo"
      },
      "execution_count": 24,
      "outputs": []
    },
    {
      "cell_type": "code",
      "source": [
        "mapa = folium.Map(\n",
        "    width=800, height=600,\n",
        "    location=[-15.77972, -47.92972],\n",
        "    zoom_start=4\n",
        ")"
      ],
      "metadata": {
        "id": "pWQKNOtQo1Cj"
      },
      "execution_count": 25,
      "outputs": []
    },
    {
      "cell_type": "code",
      "source": [
        "estados = df.loc[df.place_type == 'state', ['state', 'confirmed', 'deaths', 'is_last']]"
      ],
      "metadata": {
        "id": "WylIHO8So4U2"
      },
      "execution_count": 26,
      "outputs": []
    },
    {
      "cell_type": "code",
      "source": [
        "estados.head()"
      ],
      "metadata": {
        "id": "ywH3JrK5pKbo"
      },
      "execution_count": null,
      "outputs": []
    },
    {
      "cell_type": "code",
      "source": [
        "estados.isnull().sum()"
      ],
      "metadata": {
        "id": "UxUq8Q6npNnX"
      },
      "execution_count": null,
      "outputs": []
    },
    {
      "cell_type": "code",
      "source": [
        "estados.loc[estados.deaths.isnull(), 'deaths'] = 0"
      ],
      "metadata": {
        "id": "QFZT39LtpQkO"
      },
      "execution_count": 28,
      "outputs": []
    },
    {
      "cell_type": "code",
      "source": [
        "ultimas = estados.loc[ estados.is_last == True, ['state', 'confirmed', 'deaths']]"
      ],
      "metadata": {
        "id": "qW1a1GnPpVH8"
      },
      "execution_count": 29,
      "outputs": []
    },
    {
      "cell_type": "code",
      "source": [
        "geo_json_data"
      ],
      "metadata": {
        "id": "VJQ9JttipY5F"
      },
      "execution_count": null,
      "outputs": []
    },
    {
      "cell_type": "code",
      "source": [
        "mapa.choropleth(\n",
        "    geo_data = geo_json_data,\n",
        "    name = \"CASOS\",\n",
        "    data = ultimas,\n",
        "    columns = ['state', 'confirmed'],\n",
        "    key_on = 'feature.id',\n",
        "    fill_color = \"OrRd\",\n",
        "    fill_opacity = 1.0,\n",
        "    line_color = 'white',\n",
        "    line_opacity = 1.0,\n",
        "    show = True,\n",
        "    legend_name = \"CASOS DE COVID-19 POR ESTADO BRASILEIRO\"\n",
        "\n",
        ")\n",
        "mapa"
      ],
      "metadata": {
        "colab": {
          "base_uri": "https://localhost:8080/"
        },
        "id": "RULY5lqcpmrE",
        "outputId": "8e56bcf5-f1ad-4b8c-81b2-a21346834d6f"
      },
      "execution_count": 44,
      "outputs": [
        {
          "output_type": "stream",
          "name": "stderr",
          "text": [
            "/usr/local/lib/python3.10/dist-packages/folium/folium.py:465: FutureWarning: The choropleth  method has been deprecated. Instead use the new Choropleth class, which has the same arguments. See the example notebook 'GeoJSON_and_choropleth' for how to do this.\n",
            "  warnings.warn(\n"
          ]
        }
      ]
    },
    {
      "cell_type": "code",
      "source": [
        "ultimas['log_confirmed'] = np.log(ultimas['confirmed']+1)\n",
        "ultimas['log_deaths'] = np.log(ultimas['deaths']+1)"
      ],
      "metadata": {
        "id": "RkMFn4HpqJFE"
      },
      "execution_count": 40,
      "outputs": []
    },
    {
      "cell_type": "code",
      "source": [
        "mapa.choropleth(\n",
        "    geo_data = geo_json_data,\n",
        "    name = \"CASOS\",\n",
        "    data = ultimas,\n",
        "    columns = ['state', 'log_confirmed'],\n",
        "    key_on = 'feature.id',\n",
        "    fill_color = \"BuGn\",\n",
        "    fill_opacity = 1.0,\n",
        "    line_color = 'white',\n",
        "    line_opacity = 1.0,\n",
        "    show = True,\n",
        "    legend_name = \"LOG DE CASOS DE COVID POR ESTADO NO BRASIL\"\n",
        "\n",
        ")\n",
        "mapa"
      ],
      "metadata": {
        "colab": {
          "base_uri": "https://localhost:8080/"
        },
        "id": "ItL4-36AqRAl",
        "outputId": "98196851-2837-4667-a436-31fa57b0eee6"
      },
      "execution_count": 41,
      "outputs": [
        {
          "output_type": "stream",
          "name": "stderr",
          "text": [
            "/usr/local/lib/python3.10/dist-packages/folium/folium.py:465: FutureWarning: The choropleth  method has been deprecated. Instead use the new Choropleth class, which has the same arguments. See the example notebook 'GeoJSON_and_choropleth' for how to do this.\n",
            "  warnings.warn(\n"
          ]
        }
      ]
    },
    {
      "cell_type": "code",
      "source": [
        "ultimas['log_confirmed'] = np.log(ultimas['confirmed']+1)\n",
        "ultimas['log_deaths'] = np.log(ultimas['deaths']+1)"
      ],
      "metadata": {
        "id": "c3glT6upqd2D"
      },
      "execution_count": 35,
      "outputs": []
    },
    {
      "cell_type": "code",
      "source": [
        "mapa.choropleth(\n",
        "    geo_data = geo_json_data,\n",
        "    name = \"CASOS\",\n",
        "    data = ultimas,\n",
        "    columns = ['state', 'log_deaths'],\n",
        "    key_on = 'feature.id',\n",
        "    fill_color = \"Reds\",\n",
        "    fill_opacity = 1.0,\n",
        "    line_color = 'white',\n",
        "    line_opacity = 1.0,\n",
        "    show = True,\n",
        "    legend_name = \"MORTES POR COVID-19 POR ESTADO BRASILEIRO\"\n",
        "\n",
        ")"
      ],
      "metadata": {
        "colab": {
          "base_uri": "https://localhost:8080/"
        },
        "id": "3I3VtluyqqMJ",
        "outputId": "3b420ce0-e983-42f3-dbdf-eff9f641da5d"
      },
      "execution_count": 38,
      "outputs": [
        {
          "output_type": "stream",
          "name": "stderr",
          "text": [
            "/usr/local/lib/python3.10/dist-packages/folium/folium.py:465: FutureWarning: The choropleth  method has been deprecated. Instead use the new Choropleth class, which has the same arguments. See the example notebook 'GeoJSON_and_choropleth' for how to do this.\n",
            "  warnings.warn(\n"
          ]
        }
      ]
    },
    {
      "cell_type": "code",
      "source": [
        "mapa"
      ],
      "metadata": {
        "id": "UBtB5Y2TqzZz"
      },
      "execution_count": 39,
      "outputs": []
    },
    {
      "cell_type": "code",
      "source": [
        "estados.isnull().sum()"
      ],
      "metadata": {
        "id": "HZQulVDyr_as"
      },
      "execution_count": null,
      "outputs": []
    },
    {
      "cell_type": "code",
      "source": [
        "estados.loc[estados.deaths.isnull(), 'deaths'] = 0"
      ],
      "metadata": {
        "id": "RExEXWvXiNeR"
      },
      "execution_count": null,
      "outputs": []
    }
  ]
}